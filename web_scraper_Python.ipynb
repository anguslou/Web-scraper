{
  "nbformat": 4,
  "nbformat_minor": 0,
  "metadata": {
    "colab": {
      "name": "web_scraper_Python.ipynb",
      "provenance": [],
      "collapsed_sections": [],
      "include_colab_link": true
    },
    "kernelspec": {
      "name": "python3",
      "display_name": "Python 3"
    },
    "accelerator": "TPU"
  },
  "cells": [
    {
      "cell_type": "markdown",
      "metadata": {
        "id": "view-in-github",
        "colab_type": "text"
      },
      "source": [
        "<a href=\"https://colab.research.google.com/github/anguslou/Web-scraper/blob/master/web_scraper_Python.ipynb\" target=\"_parent\"><img src=\"https://colab.research.google.com/assets/colab-badge.svg\" alt=\"Open In Colab\"/></a>"
      ]
    },
    {
      "cell_type": "markdown",
      "metadata": {
        "id": "FL_ZSvw-NGd8",
        "colab_type": "text"
      },
      "source": [
        "https://towardsdatascience.com/looking-for-a-house-build-a-web-scraper-to-help-you-5ab25badc83e"
      ]
    },
    {
      "cell_type": "code",
      "metadata": {
        "id": "IV1zcZIGA8aL",
        "colab_type": "code",
        "colab": {}
      },
      "source": [
        "from bs4 import BeautifulSoup\n",
        "from requests import get\n",
        "import pandas as pd\n",
        "import itertools\n",
        "import matplotlib.pyplot as plt\n",
        "import seaborn as sns\n",
        "sns.set()"
      ],
      "execution_count": 0,
      "outputs": []
    },
    {
      "cell_type": "code",
      "metadata": {
        "id": "QOOwl-KwBWPx",
        "colab_type": "code",
        "colab": {}
      },
      "source": [
        "headers = ({'User-Agent':\n",
        "            'Mozilla/5.0 (Windows NT 6.1) AppleWebKit/537.36 (KHTML, like Gecko) Chrome/41.0.2228.0 Safari/537.36'})"
      ],
      "execution_count": 0,
      "outputs": []
    },
    {
      "cell_type": "code",
      "metadata": {
        "id": "Xss6-GmCBkao",
        "colab_type": "code",
        "colab": {}
      },
      "source": [
        "sapo = \"https://casa.sapo.pt/Venda/Apartamentos/?sa=11&or=10\"\n",
        "# sapo = \"https://www.indeed.hk/jobs?q=president&l=hong+kong\"\n",
        "response = get(sapo, headers=headers)"
      ],
      "execution_count": 0,
      "outputs": []
    },
    {
      "cell_type": "code",
      "metadata": {
        "id": "LaohzfLKCToY",
        "colab_type": "code",
        "colab": {
          "base_uri": "https://localhost:8080/",
          "height": 34
        },
        "outputId": "03ffbfad-4560-48b5-cd1f-9aea97493a5c"
      },
      "source": [
        "print(response)"
      ],
      "execution_count": 7,
      "outputs": [
        {
          "output_type": "stream",
          "text": [
            "<Response [200]>\n"
          ],
          "name": "stdout"
        }
      ]
    },
    {
      "cell_type": "code",
      "metadata": {
        "id": "vtcIuRgCF26j",
        "colab_type": "code",
        "colab": {
          "base_uri": "https://localhost:8080/",
          "height": 258
        },
        "outputId": "e6a01511-f260-4a56-eb6c-133f6a0ff7f6"
      },
      "source": [
        "print(response.text[:1000])"
      ],
      "execution_count": 10,
      "outputs": [
        {
          "output_type": "stream",
          "text": [
            "\r\n",
            "<!DOCTYPE html>\r\n",
            "\r\n",
            "<html lang=\"pt-PT\">\r\n",
            "<head><title>\r\n",
            "\tCasas para Venda, Apartamentos Com Ofertas recentes no Distrito de Lisboa, CASA SAPO - Portal Nacional de Imobiliário\r\n",
            "</title><meta name=\"author\" content=\"CASA SAPO - Portal Nacional de Imobiliário - Janela Digital SA\" />\r\n",
            "    <meta name=\"application-name\" content=\"CASA SAPO - Portal Nacional de Imobiliário\" data-copyright=\"Janela Digital SA\" data-generated-time=\"07/11/2019 08:59\" />\r\n",
            "    \r\n",
            "<meta name=\"content-language\" content=\"pt-PT\" />\r\n",
            "<meta name=\"viewport\" content=\"width=device-width, initial-scale=1.0\" />\r\n",
            "<meta name=\"description\" content=\"Casas para Venda, Apartamentos Com Ofertas recentes no Distrito de Lisboa, Casas para Venda, Deseja comprar casa? No maior Portal Imobiliário Nacional temos milhares de apartamentos e moradias em Lisboa, no Porto e por todo o país.\" />\r\n",
            "<meta name=\"keywords\" content=\"Casas para Venda, Apartamentos Com Ofertas recentes no Distrito de Lisboa, Casas para Venda, venda, compra, comprar, casa\n"
          ],
          "name": "stdout"
        }
      ]
    },
    {
      "cell_type": "code",
      "metadata": {
        "id": "mMQYLuPNCkYc",
        "colab_type": "code",
        "colab": {}
      },
      "source": [
        "html_soup = BeautifulSoup(response.text, 'html.parser')"
      ],
      "execution_count": 0,
      "outputs": []
    },
    {
      "cell_type": "code",
      "metadata": {
        "id": "BZyEWvCjGEwz",
        "colab_type": "code",
        "colab": {}
      },
      "source": [
        "#identify each result in page\n",
        "\n",
        "house_containers = html_soup.find_all('div', class_=\"searchResultProperty\")"
      ],
      "execution_count": 0,
      "outputs": []
    },
    {
      "cell_type": "code",
      "metadata": {
        "id": "LMe_wX7-GIN9",
        "colab_type": "code",
        "colab": {
          "base_uri": "https://localhost:8080/",
          "height": 122
        },
        "outputId": "cd517441-e67a-4430-fb9a-d80f1d4714df"
      },
      "source": [
        "first = house_containers[0]\n",
        "first.find_all('span')"
      ],
      "execution_count": 13,
      "outputs": [
        {
          "output_type": "execute_result",
          "data": {
            "text/plain": [
              "[<span>\n",
              "                         Apartamento T2, Loures\n",
              "                     </span>,\n",
              " <span class=\"btnContactPVPI\" id=\"MC_PropertyInList_repProperties_btnContactPVPINormal_0\" onclick=\"ShowContactForm('742384e1-0128-11ea-980d-060000000052', '13', '5', true); return false;\" style=\"z-index: 9999;\" title=\"Contacte Anunciante\">Contacte Anunciante</span>,\n",
              " <span>425 000 <strong title=\"Euro\">€</strong></span>]"
            ]
          },
          "metadata": {
            "tags": []
          },
          "execution_count": 13
        }
      ]
    },
    {
      "cell_type": "code",
      "metadata": {
        "id": "uC0KFwiNGLgs",
        "colab_type": "code",
        "colab": {
          "base_uri": "https://localhost:8080/",
          "height": 34
        },
        "outputId": "3aad6a27-63a3-405e-e5bc-381a97d88c7e"
      },
      "source": [
        "#find 3rd 'span' string\n",
        "\n",
        "var_1 = first.find_all('span')[2].text\n",
        "var_1"
      ],
      "execution_count": 14,
      "outputs": [
        {
          "output_type": "execute_result",
          "data": {
            "text/plain": [
              "'425\\xa0000 €'"
            ]
          },
          "metadata": {
            "tags": []
          },
          "execution_count": 14
        }
      ]
    },
    {
      "cell_type": "code",
      "metadata": {
        "id": "1k0Ip_leGVIq",
        "colab_type": "code",
        "colab": {
          "base_uri": "https://localhost:8080/",
          "height": 34
        },
        "outputId": "e950ee35-9e04-4f4e-f836-ac02bdd75292"
      },
      "source": [
        "#replace special character by ''\n",
        "\n",
        "var_1 = var_1.replace('\\xa0','')\n",
        "var_1"
      ],
      "execution_count": 15,
      "outputs": [
        {
          "output_type": "execute_result",
          "data": {
            "text/plain": [
              "'425000 €'"
            ]
          },
          "metadata": {
            "tags": []
          },
          "execution_count": 15
        }
      ]
    },
    {
      "cell_type": "code",
      "metadata": {
        "id": "1jxpxshIHDzm",
        "colab_type": "code",
        "colab": {
          "base_uri": "https://localhost:8080/",
          "height": 34
        },
        "outputId": "18818ef5-78da-4699-a1bc-a8cbd5e64be1"
      },
      "source": [
        "# using itertools to retrieve the digits and turn it into a float\n",
        "var_1 = int(''.join(itertools.takewhile(str.isdigit, var_1)))\n",
        "print(var_1,type(var_1))"
      ],
      "execution_count": 16,
      "outputs": [
        {
          "output_type": "stream",
          "text": [
            "425000 <class 'int'>\n"
          ],
          "name": "stdout"
        }
      ]
    },
    {
      "cell_type": "code",
      "metadata": {
        "id": "00s600DJI48Q",
        "colab_type": "code",
        "colab": {
          "base_uri": "https://localhost:8080/",
          "height": 34
        },
        "outputId": "1b7ea25a-1b5c-4e5f-ca80-2ae8b3418ee1"
      },
      "source": [
        "# Location, understand each field before for loop\n",
        "location = first.find_all('p', class_='searchPropertyLocation')[0].text\n",
        "location[7:location.find(',')]"
      ],
      "execution_count": 18,
      "outputs": [
        {
          "output_type": "execute_result",
          "data": {
            "text/plain": [
              "'               Loures\\r\\n               '"
            ]
          },
          "metadata": {
            "tags": []
          },
          "execution_count": 18
        }
      ]
    },
    {
      "cell_type": "code",
      "metadata": {
        "id": "OJCVK_5aJhir",
        "colab_type": "code",
        "colab": {
          "base_uri": "https://localhost:8080/",
          "height": 34
        },
        "outputId": "f63c3ccf-b955-405b-a623-0feb00d62dc4"
      },
      "source": [
        "# size in m2\n",
        "first.find_all('p')[7]"
      ],
      "execution_count": 19,
      "outputs": [
        {
          "output_type": "execute_result",
          "data": {
            "text/plain": [
              "<p>184m²</p>"
            ]
          },
          "metadata": {
            "tags": []
          },
          "execution_count": 19
        }
      ]
    },
    {
      "cell_type": "code",
      "metadata": {
        "id": "4Y2wb_55Jo8Y",
        "colab_type": "code",
        "colab": {
          "base_uri": "https://localhost:8080/",
          "height": 164
        },
        "outputId": "a24ccd63-ba6f-4b92-8439-3a58cc3bd824"
      },
      "source": [
        "# date ad posted\n",
        "pd.to_datetime(first.find_all('div', class_=\"searchPropertyDate\")[0].text[21:31])"
      ],
      "execution_count": 23,
      "outputs": [
        {
          "output_type": "error",
          "ename": "IndexError",
          "evalue": "ignored",
          "traceback": [
            "\u001b[0;31m---------------------------------------------------------------------------\u001b[0m",
            "\u001b[0;31mIndexError\u001b[0m                                Traceback (most recent call last)",
            "\u001b[0;32m<ipython-input-23-0076ba8eadec>\u001b[0m in \u001b[0;36m<module>\u001b[0;34m()\u001b[0m\n\u001b[0;32m----> 1\u001b[0;31m \u001b[0mpd\u001b[0m\u001b[0;34m.\u001b[0m\u001b[0mto_datetime\u001b[0m\u001b[0;34m(\u001b[0m\u001b[0mfirst\u001b[0m\u001b[0;34m.\u001b[0m\u001b[0mfind_all\u001b[0m\u001b[0;34m(\u001b[0m\u001b[0;34m'div'\u001b[0m\u001b[0;34m,\u001b[0m \u001b[0mclass_\u001b[0m\u001b[0;34m=\u001b[0m\u001b[0;34m\"searchPropertyDate\"\u001b[0m\u001b[0;34m)\u001b[0m\u001b[0;34m[\u001b[0m\u001b[0;36m0\u001b[0m\u001b[0;34m]\u001b[0m\u001b[0;34m.\u001b[0m\u001b[0mtext\u001b[0m\u001b[0;34m[\u001b[0m\u001b[0;36m21\u001b[0m\u001b[0;34m:\u001b[0m\u001b[0;36m31\u001b[0m\u001b[0;34m]\u001b[0m\u001b[0;34m)\u001b[0m\u001b[0;34m\u001b[0m\u001b[0;34m\u001b[0m\u001b[0m\n\u001b[0m",
            "\u001b[0;31mIndexError\u001b[0m: list index out of range"
          ]
        }
      ]
    },
    {
      "cell_type": "code",
      "metadata": {
        "id": "l9PibWjCKjz8",
        "colab_type": "code",
        "colab": {
          "base_uri": "https://localhost:8080/",
          "height": 164
        },
        "outputId": "e34c2200-ff7a-4a61-d60a-c83f23cdebca"
      },
      "source": [
        "# short description\n",
        "first.find_all('p', class_=\"searchPropertyDescription\"[0].text[7:-6])"
      ],
      "execution_count": 24,
      "outputs": [
        {
          "output_type": "error",
          "ename": "AttributeError",
          "evalue": "ignored",
          "traceback": [
            "\u001b[0;31m---------------------------------------------------------------------------\u001b[0m",
            "\u001b[0;31mAttributeError\u001b[0m                            Traceback (most recent call last)",
            "\u001b[0;32m<ipython-input-24-262905b09707>\u001b[0m in \u001b[0;36m<module>\u001b[0;34m()\u001b[0m\n\u001b[0;32m----> 1\u001b[0;31m \u001b[0mfirst\u001b[0m\u001b[0;34m.\u001b[0m\u001b[0mfind_all\u001b[0m\u001b[0;34m(\u001b[0m\u001b[0;34m'p'\u001b[0m\u001b[0;34m,\u001b[0m \u001b[0mclass_\u001b[0m\u001b[0;34m=\u001b[0m\u001b[0;34m\"searchPropertyDescription\"\u001b[0m\u001b[0;34m[\u001b[0m\u001b[0;36m0\u001b[0m\u001b[0;34m]\u001b[0m\u001b[0;34m.\u001b[0m\u001b[0mtext\u001b[0m\u001b[0;34m[\u001b[0m\u001b[0;36m7\u001b[0m\u001b[0;34m:\u001b[0m\u001b[0;34m-\u001b[0m\u001b[0;36m6\u001b[0m\u001b[0;34m]\u001b[0m\u001b[0;34m)\u001b[0m\u001b[0;34m\u001b[0m\u001b[0;34m\u001b[0m\u001b[0m\n\u001b[0m",
            "\u001b[0;31mAttributeError\u001b[0m: 'str' object has no attribute 'text'"
          ]
        }
      ]
    },
    {
      "cell_type": "code",
      "metadata": {
        "id": "74sy_OMCLB7_",
        "colab_type": "code",
        "colab": {
          "base_uri": "https://localhost:8080/",
          "height": 85
        },
        "outputId": "4225eb10-66d3-42e6-e08a-ea042b8bc737"
      },
      "source": [
        "# gets all the links\n",
        "for url in first.find_all('a'):\n",
        "  print(url.get('href'))"
      ],
      "execution_count": 25,
      "outputs": [
        {
          "output_type": "stream",
          "text": [
            "/comprar-apartamento-t2-loures-tem-jacuzzi,aspiracao-central,terraco,seguranca,ar-condicionado,varanda,garagem-estacionamento,aquecimento-central,varandas-742384e1-0128-11ea-980d-060000000052.html?fpn=1\n",
            "/comprar-apartamento-t2-loures-tem-jacuzzi,aspiracao-central,terraco,seguranca,ar-condicionado,varanda,garagem-estacionamento,aquecimento-central,varandas-742384e1-0128-11ea-980d-060000000052.html?fpn=1\n",
            "/comprar-apartamento-t2-loures-tem-jacuzzi,aspiracao-central,terraco,seguranca,ar-condicionado,varanda,garagem-estacionamento,aquecimento-central,varandas-742384e1-0128-11ea-980d-060000000052.html?fpn=1\n",
            "/comprar-apartamento-t2-loures-tem-jacuzzi,aspiracao-central,terraco,seguranca,ar-condicionado,varanda,garagem-estacionamento,aquecimento-central,varandas-742384e1-0128-11ea-980d-060000000052.html?fpn=1\n"
          ],
          "name": "stdout"
        }
      ]
    },
    {
      "cell_type": "code",
      "metadata": {
        "id": "Mc7LrHBmLPTK",
        "colab_type": "code",
        "colab": {
          "base_uri": "https://localhost:8080/",
          "height": 54
        },
        "outputId": "6586065f-32da-4378-d310-85440ee6525a"
      },
      "source": [
        "# adding the domain part to the url and remove last letters\n",
        "'https://casa.sapo.pt/' + first.find_all('a')[0].get('href')[1:-6]"
      ],
      "execution_count": 26,
      "outputs": [
        {
          "output_type": "execute_result",
          "data": {
            "text/plain": [
              "'https://casa.sapo.pt/comprar-apartamento-t2-loures-tem-jacuzzi,aspiracao-central,terraco,seguranca,ar-condicionado,varanda,garagem-estacionamento,aquecimento-central,varandas-742384e1-0128-11ea-980d-060000000052.html'"
            ]
          },
          "metadata": {
            "tags": []
          },
          "execution_count": 26
        }
      ]
    },
    {
      "cell_type": "code",
      "metadata": {
        "id": "tqogDmDvLp61",
        "colab_type": "code",
        "colab": {
          "base_uri": "https://localhost:8080/",
          "height": 54
        },
        "outputId": "f2fa0345-f805-41fb-b90d-2b94dcef774c"
      },
      "source": [
        "# why not get a thumbnail too? it seems to be somewhere between all these characters\n",
        "p = str(first.find_all('img')[0])\n",
        "p"
      ],
      "execution_count": 27,
      "outputs": [
        {
          "output_type": "execute_result",
          "data": {
            "text/plain": [
              "'<img alt=\"Ver Apartamento T2 em Loures\" data-error=\"/Themes/Global/Images/NoPic280x210.jpg\" data-src=\"https://media.casasapo.pt/Z320x240/Wnone/S5/C5379/P14762733/Tphoto/IDed42e100-0000-0500-0000-000008761649.jpg\" data-src-retina=\"https://media.casasapo.pt/Z640x480/Wnone/S5/C5379/P14762733/Tphoto/IDed42e100-0000-0500-0000-000008761649.jpg\" id=\"MC_PropertyInList_repProperties_thumbImage_0\" src=\"https://media.casasapo.pt/Z320x240/Wnone/S5/C5379/P14762733/Tphoto/IDed42e100-0000-0500-0000-000008761649.jpg\">\\n<a class=\"photoLayer\" href=\"/comprar-apartamento-t2-loures-tem-jacuzzi,aspiracao-central,terraco,seguranca,ar-condicionado,varanda,garagem-estacionamento,aquecimento-central,varandas-742384e1-0128-11ea-980d-060000000052.html?fpn=1\" id=\"MC_PropertyInList_repProperties_hlRealestateDetail_Image_0\" title=\"Ver Apartamento T2 em Loures\"></a>\\n<div class=\"photoButtonsBackground\"></div>\\n</img>'"
            ]
          },
          "metadata": {
            "tags": []
          },
          "execution_count": 27
        }
      ]
    },
    {
      "cell_type": "code",
      "metadata": {
        "id": "grPMobbOL7sA",
        "colab_type": "code",
        "colab": {
          "base_uri": "https://localhost:8080/",
          "height": 54
        },
        "outputId": "37108862-7db5-48ed-926b-be7f80113533"
      },
      "source": [
        "# i want the 2x size thumbnail, which can be found in the positions defined below\n",
        "imgurl = p[p.find('data-original_2x=') + 18:p.find('id=')-2]\n",
        "imgurl"
      ],
      "execution_count": 28,
      "outputs": [
        {
          "output_type": "execute_result",
          "data": {
            "text/plain": [
              "'rtamento T2 em Loures\" data-error=\"/Themes/Global/Images/NoPic280x210.jpg\" data-src=\"https://media.casasapo.pt/Z320x240/Wnone/S5/C5379/P14762733/Tphoto/IDed42e100-0000-0500-0000-000008761649.jpg\" data-src-retina=\"https://media.casasapo.pt/Z640x480/Wnone/S5/C5379/P14762733/Tphoto/IDed42e100-0000-0500-0000-000008761649.jpg'"
            ]
          },
          "metadata": {
            "tags": []
          },
          "execution_count": 28
        }
      ]
    },
    {
      "cell_type": "code",
      "metadata": {
        "id": "mco0l4GuMYeM",
        "colab_type": "code",
        "colab": {}
      },
      "source": [
        "# setting up the lists that will form our dataframe with all the results\n",
        "titles = []\n",
        "created = []\n",
        "prices = []\n",
        "areas = []\n",
        "zone = []\n",
        "condition = []\n",
        "descriptions = []\n",
        "urls = []\n",
        "thumbnails = []"
      ],
      "execution_count": 0,
      "outputs": []
    },
    {
      "cell_type": "code",
      "metadata": {
        "id": "0X4kPCFGMwI8",
        "colab_type": "code",
        "colab": {
          "base_uri": "https://localhost:8080/",
          "height": 412
        },
        "outputId": "3a7513b3-b8b5-4cbb-ee49-7af34e6852f7"
      },
      "source": [
        "\n",
        "%%time\n",
        "\n",
        "n_pages = 0\n",
        "\n",
        "for page in range(0,900):\n",
        "    n_pages += 1\n",
        "    sapo_url = 'https://casa.sapo.pt/Venda/Apartamentos/?sa=11&lp=10000&or=10'+'&pn='+str(page)\n",
        "    r = get(sapo_url, headers=headers)\n",
        "    page_html = BeautifulSoup(r.text, 'html.parser')\n",
        "    house_containers = page_html.find_all('div', class_=\"searchResultProperty\")\n",
        "    if house_containers != []:\n",
        "        for container in house_containers:\n",
        "            \n",
        "            # Price            \n",
        "            price = container.find_all('span')[2].text\n",
        "            if price == 'Contacte Anunciante':\n",
        "                price = container.find_all('span')[3].text\n",
        "                if price.find('/') != -1:\n",
        "                    price = price[0:price.find('/')-1]\n",
        "            if price.find('/') != -1:\n",
        "                price = price[0:price.find('/')-1]\n",
        "            \n",
        "            price_ = [int(price[s]) for s in range(0,len(price)) if price[s].isdigit()]\n",
        "            price = ''\n",
        "            for x in price_:\n",
        "                price = price+str(x)\n",
        "            prices.append(int(price))\n",
        "\n",
        "            # Zone\n",
        "            location = container.find_all('p', class_=\"searchPropertyLocation\")[0].text\n",
        "            location = location[7:location.find(',')]\n",
        "            zone.append(location)\n",
        "\n",
        "            # Title\n",
        "            name = container.find_all('span')[0].text\n",
        "            titles.append(name)\n",
        "\n",
        "            # Status\n",
        "            status = container.find_all('p')[5].text\n",
        "            condition.append(status)\n",
        "\n",
        "            # Area\n",
        "            m2 = container.find_all('p')[9].text\n",
        "            if m2 != '-':\n",
        "                m2 = m2.replace('\\xa0','')\n",
        "                m2 = float(\"\".join(itertools.takewhile(str.isdigit, m2)))\n",
        "                areas.append(m2)\n",
        "                \n",
        "            else:\n",
        "                m2 = container.find_all('p')[7].text\n",
        "                if m2 != '-':\n",
        "                    m2 = m2.replace('\\xa0','')\n",
        "                    m2 = float(\"\".join(itertools.takewhile(str.isdigit, m2)))\n",
        "                    areas.append(m2)\n",
        "                else:\n",
        "                    areas.append(m2)\n",
        "\n",
        "            # Creation date\n",
        "            date = pd.to_datetime(container.find_all('div', class_=\"searchPropertyDate\")[0].text[21:31])\n",
        "            created.append(date)\n",
        "\n",
        "            # Description\n",
        "            desc = container.find_all('p', class_=\"searchPropertyDescription\")[0].text[7:-6]\n",
        "            descriptions.append(desc)\n",
        "\n",
        "            # url\n",
        "            link = 'https://casa.sapo.pt/' + container.find_all('a')[0].get('href')[1:-6]\n",
        "            urls.append(link)\n",
        "\n",
        "            # image\n",
        "            img = str(container.find_all('img')[0])\n",
        "            img = img[img.find('data-original_2x=')+18:img.find('id=')-2]\n",
        "            thumbnails.append(img)\n",
        "    else:\n",
        "        break\n",
        "    \n",
        "    sleep(randint(1,2))\n",
        "    \n",
        "print('You scraped {} pages containing {} properties.'.format(n_pages, len(titles)))"
      ],
      "execution_count": 31,
      "outputs": [
        {
          "output_type": "error",
          "ename": "IndexError",
          "evalue": "ignored",
          "traceback": [
            "\u001b[0;31m---------------------------------------------------------------------------\u001b[0m",
            "\u001b[0;31mIndexError\u001b[0m                                Traceback (most recent call last)",
            "\u001b[0;32m<ipython-input-31-4840f98fcdef>\u001b[0m in \u001b[0;36m<module>\u001b[0;34m()\u001b[0m\n\u001b[1;32m      1\u001b[0m \u001b[0;34m\u001b[0m\u001b[0m\n\u001b[0;32m----> 2\u001b[0;31m \u001b[0mget_ipython\u001b[0m\u001b[0;34m(\u001b[0m\u001b[0;34m)\u001b[0m\u001b[0;34m.\u001b[0m\u001b[0mrun_cell_magic\u001b[0m\u001b[0;34m(\u001b[0m\u001b[0;34m'time'\u001b[0m\u001b[0;34m,\u001b[0m \u001b[0;34m''\u001b[0m\u001b[0;34m,\u001b[0m \u001b[0;34m'\\nn_pages = 0\\n\\nfor page in range(0,900):\\n    n_pages += 1\\n    sapo_url = \\'https://casa.sapo.pt/Venda/Apartamentos/?sa=11&lp=10000&or=10\\'+\\'&pn=\\'+str(page)\\n    r = get(sapo_url, headers=headers)\\n    page_html = BeautifulSoup(r.text, \\'html.parser\\')\\n    house_containers = page_html.find_all(\\'div\\', class_=\"searchResultProperty\")\\n    if house_containers != []:\\n        for container in house_containers:\\n            \\n            # Price            \\n            price = container.find_all(\\'span\\')[2].text\\n            if price == \\'Contacte Anunciante\\':\\n                price = container.find_all(\\'span\\')[3].text\\n                if price.find(\\'/\\') != -1:\\n                    price = price[0:price.find(\\'/\\')-1]\\n            if price.find(\\'/\\') != -1:\\n                price = price[0:price.find(\\'/\\')-1]\\n            \\n            price_ = [int(price[s]) for s in range(0,len(price)) if price[s].isdigit()]\\n            price = \\'\\'\\n            for x in price_:\\n                price = price+str(x)\\n            prices.append(int(price))\\n\\n            # Zone\\n            location = container.find_all(\\'p\\', class_=\"searchPropertyLocation\")[0].text\\n            location = location[7:location.find(\\',\\')]\\n            zone.append(location)\\n\\n            # Title\\n            name = contai...\n\u001b[0m",
            "\u001b[0;32m/usr/local/lib/python3.6/dist-packages/IPython/core/interactiveshell.py\u001b[0m in \u001b[0;36mrun_cell_magic\u001b[0;34m(self, magic_name, line, cell)\u001b[0m\n\u001b[1;32m   2115\u001b[0m             \u001b[0mmagic_arg_s\u001b[0m \u001b[0;34m=\u001b[0m \u001b[0mself\u001b[0m\u001b[0;34m.\u001b[0m\u001b[0mvar_expand\u001b[0m\u001b[0;34m(\u001b[0m\u001b[0mline\u001b[0m\u001b[0;34m,\u001b[0m \u001b[0mstack_depth\u001b[0m\u001b[0;34m)\u001b[0m\u001b[0;34m\u001b[0m\u001b[0;34m\u001b[0m\u001b[0m\n\u001b[1;32m   2116\u001b[0m             \u001b[0;32mwith\u001b[0m \u001b[0mself\u001b[0m\u001b[0;34m.\u001b[0m\u001b[0mbuiltin_trap\u001b[0m\u001b[0;34m:\u001b[0m\u001b[0;34m\u001b[0m\u001b[0;34m\u001b[0m\u001b[0m\n\u001b[0;32m-> 2117\u001b[0;31m                 \u001b[0mresult\u001b[0m \u001b[0;34m=\u001b[0m \u001b[0mfn\u001b[0m\u001b[0;34m(\u001b[0m\u001b[0mmagic_arg_s\u001b[0m\u001b[0;34m,\u001b[0m \u001b[0mcell\u001b[0m\u001b[0;34m)\u001b[0m\u001b[0;34m\u001b[0m\u001b[0;34m\u001b[0m\u001b[0m\n\u001b[0m\u001b[1;32m   2118\u001b[0m             \u001b[0;32mreturn\u001b[0m \u001b[0mresult\u001b[0m\u001b[0;34m\u001b[0m\u001b[0;34m\u001b[0m\u001b[0m\n\u001b[1;32m   2119\u001b[0m \u001b[0;34m\u001b[0m\u001b[0m\n",
            "\u001b[0;32m</usr/local/lib/python3.6/dist-packages/decorator.py:decorator-gen-60>\u001b[0m in \u001b[0;36mtime\u001b[0;34m(self, line, cell, local_ns)\u001b[0m\n",
            "\u001b[0;32m/usr/local/lib/python3.6/dist-packages/IPython/core/magic.py\u001b[0m in \u001b[0;36m<lambda>\u001b[0;34m(f, *a, **k)\u001b[0m\n\u001b[1;32m    186\u001b[0m     \u001b[0;31m# but it's overkill for just that one bit of state.\u001b[0m\u001b[0;34m\u001b[0m\u001b[0;34m\u001b[0m\u001b[0;34m\u001b[0m\u001b[0m\n\u001b[1;32m    187\u001b[0m     \u001b[0;32mdef\u001b[0m \u001b[0mmagic_deco\u001b[0m\u001b[0;34m(\u001b[0m\u001b[0marg\u001b[0m\u001b[0;34m)\u001b[0m\u001b[0;34m:\u001b[0m\u001b[0;34m\u001b[0m\u001b[0;34m\u001b[0m\u001b[0m\n\u001b[0;32m--> 188\u001b[0;31m         \u001b[0mcall\u001b[0m \u001b[0;34m=\u001b[0m \u001b[0;32mlambda\u001b[0m \u001b[0mf\u001b[0m\u001b[0;34m,\u001b[0m \u001b[0;34m*\u001b[0m\u001b[0ma\u001b[0m\u001b[0;34m,\u001b[0m \u001b[0;34m**\u001b[0m\u001b[0mk\u001b[0m\u001b[0;34m:\u001b[0m \u001b[0mf\u001b[0m\u001b[0;34m(\u001b[0m\u001b[0;34m*\u001b[0m\u001b[0ma\u001b[0m\u001b[0;34m,\u001b[0m \u001b[0;34m**\u001b[0m\u001b[0mk\u001b[0m\u001b[0;34m)\u001b[0m\u001b[0;34m\u001b[0m\u001b[0;34m\u001b[0m\u001b[0m\n\u001b[0m\u001b[1;32m    189\u001b[0m \u001b[0;34m\u001b[0m\u001b[0m\n\u001b[1;32m    190\u001b[0m         \u001b[0;32mif\u001b[0m \u001b[0mcallable\u001b[0m\u001b[0;34m(\u001b[0m\u001b[0marg\u001b[0m\u001b[0;34m)\u001b[0m\u001b[0;34m:\u001b[0m\u001b[0;34m\u001b[0m\u001b[0;34m\u001b[0m\u001b[0m\n",
            "\u001b[0;32m/usr/local/lib/python3.6/dist-packages/IPython/core/magics/execution.py\u001b[0m in \u001b[0;36mtime\u001b[0;34m(self, line, cell, local_ns)\u001b[0m\n\u001b[1;32m   1191\u001b[0m         \u001b[0;32melse\u001b[0m\u001b[0;34m:\u001b[0m\u001b[0;34m\u001b[0m\u001b[0;34m\u001b[0m\u001b[0m\n\u001b[1;32m   1192\u001b[0m             \u001b[0mst\u001b[0m \u001b[0;34m=\u001b[0m \u001b[0mclock2\u001b[0m\u001b[0;34m(\u001b[0m\u001b[0;34m)\u001b[0m\u001b[0;34m\u001b[0m\u001b[0;34m\u001b[0m\u001b[0m\n\u001b[0;32m-> 1193\u001b[0;31m             \u001b[0mexec\u001b[0m\u001b[0;34m(\u001b[0m\u001b[0mcode\u001b[0m\u001b[0;34m,\u001b[0m \u001b[0mglob\u001b[0m\u001b[0;34m,\u001b[0m \u001b[0mlocal_ns\u001b[0m\u001b[0;34m)\u001b[0m\u001b[0;34m\u001b[0m\u001b[0;34m\u001b[0m\u001b[0m\n\u001b[0m\u001b[1;32m   1194\u001b[0m             \u001b[0mend\u001b[0m \u001b[0;34m=\u001b[0m \u001b[0mclock2\u001b[0m\u001b[0;34m(\u001b[0m\u001b[0;34m)\u001b[0m\u001b[0;34m\u001b[0m\u001b[0;34m\u001b[0m\u001b[0m\n\u001b[1;32m   1195\u001b[0m             \u001b[0mout\u001b[0m \u001b[0;34m=\u001b[0m \u001b[0;32mNone\u001b[0m\u001b[0;34m\u001b[0m\u001b[0;34m\u001b[0m\u001b[0m\n",
            "\u001b[0;32m<timed exec>\u001b[0m in \u001b[0;36m<module>\u001b[0;34m()\u001b[0m\n",
            "\u001b[0;31mIndexError\u001b[0m: list index out of range"
          ]
        }
      ]
    },
    {
      "cell_type": "code",
      "metadata": {
        "id": "Y9BCEPENNDSh",
        "colab_type": "code",
        "colab": {}
      },
      "source": [
        "cols = ['Title', 'Zone', 'Price', 'Size (m²)', 'Status', 'Description', 'Date', 'URL', 'Image']\n",
        "\n",
        "lisboa = pd.DataFrame({'Title': titles,\n",
        "                           'Price': prices,\n",
        "                           'Size (m²)': areas,\n",
        "                           'Zone': zone,\n",
        "                           'Date': created,\n",
        "                           'Status': condition,\n",
        "                           'Description': descriptions,\n",
        "                           'URL': urls,\n",
        "                           'Image': thumbnails})[cols]\n",
        "\n",
        "lisboa.to_excel('lisboa_raw.xls')\n",
        "\n",
        "# lisboa = pd.read_excel('lisboa_raw.xls')"
      ],
      "execution_count": 0,
      "outputs": []
    }
  ]
}